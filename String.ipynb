{
 "cells": [
  {
   "cell_type": "code",
   "execution_count": 1,
   "id": "ca5ac4ff",
   "metadata": {},
   "outputs": [
    {
     "name": "stdout",
     "output_type": "stream",
     "text": [
      "7500000000000.0\n"
     ]
    }
   ],
   "source": [
    "print(7.5e12)"
   ]
  },
  {
   "cell_type": "code",
   "execution_count": 5,
   "id": "42d0872b",
   "metadata": {},
   "outputs": [
    {
     "name": "stdout",
     "output_type": "stream",
     "text": [
      "4e-12\n"
     ]
    }
   ],
   "source": [
    "print(0.000000000004)"
   ]
  },
  {
   "cell_type": "code",
   "execution_count": 7,
   "id": "32068600",
   "metadata": {},
   "outputs": [
    {
     "name": "stdout",
     "output_type": "stream",
     "text": [
      "I' am a developer\n",
      "I\" am a developer\n"
     ]
    }
   ],
   "source": [
    "print('I\\' am a developer')\n",
    "print(\"I\\\" am a developer\")"
   ]
  },
  {
   "cell_type": "code",
   "execution_count": 8,
   "id": "8161374c",
   "metadata": {},
   "outputs": [
    {
     "name": "stdout",
     "output_type": "stream",
     "text": [
      "I am not an 'idiot'\n"
     ]
    }
   ],
   "source": [
    "print(\"I am not an 'idiot'\")"
   ]
  },
  {
   "cell_type": "code",
   "execution_count": 8,
   "id": "aa75c8ef",
   "metadata": {},
   "outputs": [],
   "source": [
    "def isHappy(n):\n",
    "    def squared(num):\n",
    "        res=0\n",
    "        while(num>0):\n",
    "            rem=num%10\n",
    "            res += rem*rem\n",
    "            num=num//10\n",
    "        return res\n",
    "    slow=fast=n\n",
    "    while True:\n",
    "        slow=squared(slow)\n",
    "        fast=squared(squared(fast))\n",
    "        if (slow==fast):\n",
    "            break\n",
    "    if slow==1:\n",
    "        return True\n",
    "    return False        "
   ]
  },
  {
   "cell_type": "code",
   "execution_count": 9,
   "id": "9277290f",
   "metadata": {},
   "outputs": [
    {
     "data": {
      "text/plain": [
       "True"
      ]
     },
     "execution_count": 9,
     "metadata": {},
     "output_type": "execute_result"
    }
   ],
   "source": [
    "isHappy(19)"
   ]
  },
  {
   "cell_type": "code",
   "execution_count": 20,
   "id": "b1ccf71b",
   "metadata": {},
   "outputs": [
    {
     "name": "stdout",
     "output_type": "stream",
     "text": [
      "{'a': 1, 'c': 2, 'b': 3}\n"
     ]
    }
   ],
   "source": [
    "my_dict = {'b': 3, 'a': 1, 'c': 2}\n",
    "\n",
    "# Sort by values\n",
    "sorted_by_values = dict(sorted(my_dict.items(), key=lambda item: item[1]))\n",
    "print(sorted_by_values)  # {'a': 1, 'c': 2, 'b': 3}\n"
   ]
  },
  {
   "cell_type": "code",
   "execution_count": 21,
   "id": "a18ce860",
   "metadata": {},
   "outputs": [
    {
     "ename": "KeyError",
     "evalue": "0",
     "output_type": "error",
     "traceback": [
      "\u001b[1;31m---------------------------------------------------------------------------\u001b[0m",
      "\u001b[1;31mKeyError\u001b[0m                                  Traceback (most recent call last)",
      "Cell \u001b[1;32mIn[21], line 1\u001b[0m\n\u001b[1;32m----> 1\u001b[0m sorted_by_values[\u001b[38;5;241m0\u001b[39m]\n",
      "\u001b[1;31mKeyError\u001b[0m: 0"
     ]
    }
   ],
   "source": [
    "sorted_by_values[0]"
   ]
  },
  {
   "cell_type": "code",
   "execution_count": 23,
   "id": "9542f7f6",
   "metadata": {},
   "outputs": [
    {
     "name": "stdout",
     "output_type": "stream",
     "text": [
      "Python 3.11.5\n"
     ]
    }
   ],
   "source": [
    "!python --version"
   ]
  },
  {
   "cell_type": "code",
   "execution_count": null,
   "id": "2df93edb",
   "metadata": {},
   "outputs": [],
   "source": []
  }
 ],
 "metadata": {
  "kernelspec": {
   "display_name": "Python 3 (ipykernel)",
   "language": "python",
   "name": "python3"
  },
  "language_info": {
   "codemirror_mode": {
    "name": "ipython",
    "version": 3
   },
   "file_extension": ".py",
   "mimetype": "text/x-python",
   "name": "python",
   "nbconvert_exporter": "python",
   "pygments_lexer": "ipython3",
   "version": "3.11.5"
  }
 },
 "nbformat": 4,
 "nbformat_minor": 5
}
